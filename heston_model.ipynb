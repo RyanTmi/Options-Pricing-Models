{
 "cells": [
  {
   "cell_type": "markdown",
   "metadata": {},
   "source": [
    "# Heston Model\n",
    "\n",
    "In this notebook we will introduce the Heston model which is one of most famous stochastic volatility model.\n",
    "It assume that the asset price but also its variance are stochastic, the variance is correlated with the asset price and it follows a mean reverting process."
   ]
  },
  {
   "cell_type": "markdown",
   "metadata": {},
   "source": [
    "# Table of Content\n",
    "\n",
    "1. [Black-Scholes Model and its Limits](#1-black-scholes-model-and-its-limits)\n",
    "2. [The Heston Model](#2-the-heston-model)"
   ]
  },
  {
   "cell_type": "markdown",
   "metadata": {},
   "source": [
    "## 1. Black-Scholes Model and its Limits\n",
    "\n",
    "In the **Black-Scholes** model, the asset price $S$ follows a **geometric Brownian motion**:\n",
    "$$\n",
    "    dS_t = \\mu S_tdt + \\sigma S_tdW_t.\n",
    "$$\n",
    "\n",
    "The implied volatility is assumde to be constant. In practice we see that the volatility changes with time."
   ]
  },
  {
   "cell_type": "markdown",
   "metadata": {},
   "source": [
    "## 2. The Heston Model\n",
    "\n",
    "**Heston** proposed in 1993 a model to value options where both the **asset price** and the **volatility** are **stochastic**, the volatility follows a **mean-reverting** process and the asset price and its volatility are **correlated**.\n",
    "\n",
    "Under the *real* probability $\\mathbb{P}$:\n",
    "$$\n",
    "    dS_t = \\mu S_tdt + \\sqrt{\\nu_t}S_t dW^1_t\n",
    "$$\n",
    "$$\n",
    "    d\\nu_t = \\kappa (\\theta-\\nu_t)dt + \\xi\\sqrt{\\nu_t} dW^2_t\n",
    "$$\n",
    "$$\n",
    "    dW^1_tdW^2_t=\\rho dt\n",
    "$$\n",
    "\n",
    "where\n",
    "- $S_t$: Underlying asset price at time t\n",
    "- $\\mu$: Drift of the price process\n",
    "- $\\nu_t$: Instantaneous variance at time t\n",
    "- $\\kappa$: Speed of mean-reversion\n",
    "- $\\theta$: Long-term mean of the variance\n",
    "- $\\xi$: Volatility of the volatility (vol of vol)\n",
    "- $W^1, W^2$: Brownian motions under $\\mathbb{P}$\n",
    "- $\\rho$: Correlation of the two Brownian motion\n",
    "\n"
   ]
  }
 ],
 "metadata": {
  "language_info": {
   "name": "python"
  }
 },
 "nbformat": 4,
 "nbformat_minor": 2
}
